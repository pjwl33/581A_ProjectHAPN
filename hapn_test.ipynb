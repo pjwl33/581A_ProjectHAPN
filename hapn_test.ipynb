{
 "cells": [
  {
   "cell_type": "code",
   "execution_count": 1,
   "id": "95687976-7dbe-40c9-84ec-be375d31bb1f",
   "metadata": {},
   "outputs": [],
   "source": [
    "# import statements\n",
    "import pandas as pd\n",
    "import numpy as np\n",
    "import matplotlib.pyplot as plt\n",
    "import cv2\n",
    "import os\n",
    "import warnings\n",
    "warnings.filterwarnings(\"ignore\")\n",
    "\n",
    "\n",
    "# function detect_face : process faces and converts to grayscale\n",
    "def detect_face(img):\n",
    "    # convert image to gray\n",
    "    gray = cv2.cvtColor(img, cv2.COLOR_BGR2GRAY)\n",
    "    \n",
    "    # load OpenCV face detector\n",
    "    casc_path = \"/Users/gelo/Desktop/Main/Study/CSS581/Project/hapn_code/data/opencv-files/haarcascade_frontalface_default.xml\"\n",
    "    face_cas = cv2.CascadeClassifier(casc_path)\n",
    "    faces = face_cas.detectMultiScale(gray, scaleFactor=1.3, minNeighbors=4);\n",
    "    \n",
    "    \n",
    "    #if no faces\n",
    "    if (len(faces) == 0):\n",
    "        return None, None\n",
    "    \n",
    "    #extract face\n",
    "    (x, y, w, h) = faces[0]\n",
    "    #return just face\n",
    "    return gray[y:y+w, x:x+h], faces[0]\n",
    "\n",
    "# function prepare_training_data : handles logistics and setup\n",
    "def prepare_training_data(data_folder_path):\n",
    "    # get directories\n",
    "    dirs = os.listdir(data_folder_path)\n",
    "    \n",
    "    # set up arrays for faces and labels\n",
    "    faces = []  # is this a face?\n",
    "    labels = [] # whose face is this?\n",
    "    count = 0\n",
    "\n",
    "    \n",
    "    # loop through all folders with images\n",
    "    for dir_name in dirs:\n",
    "        # skip any hidden directories\n",
    "        if dir_name.startswith(\".\"):\n",
    "            continue;\n",
    "        # get path for each person folder\n",
    "        path = os.path.join(data_folder_path, dir_name)\n",
    "        # set the label to the folder name\n",
    "        label = dirs.index(dir_name)\n",
    "        \n",
    "        # read each image, get and store faces\n",
    "        for image_name in os.listdir(path):\n",
    "            # ignore system files\n",
    "            if image_name.startswith(\".\"): \n",
    "                continue;\n",
    "            # build image path\n",
    "            image_path = os.path.join(path,image_name)\n",
    "            # read image\n",
    "            image = cv2.imread(image_path)\n",
    "            # display image window showing image\n",
    "            cv2.imshow(\"Training on image...\", image)\n",
    "            cv2.waitKey(100)\n",
    "            # detect face\n",
    "            face, rect = detect_face(image)\n",
    "            \n",
    "            # ignore faces not detected\n",
    "            if face is not None:\n",
    "                # store face\n",
    "                faces.append(face)\n",
    "                # add label\n",
    "                labels.append(label)\n",
    "            count+=1\n",
    "\n",
    "                \n",
    "    cv2.destroyAllWindows()\n",
    "    cv2.waitKey(1)\n",
    "    cv2.destroyAllWindows()\n",
    "    \n",
    "    return faces, labels, count"
   ]
  },
  {
   "cell_type": "code",
   "execution_count": 2,
   "id": "541f562f-cdd5-461b-bbfa-0f18b714b226",
   "metadata": {},
   "outputs": [
    {
     "name": "stdout",
     "output_type": "stream",
     "text": [
      "Total faces:  10 \n",
      "Total labels:  10 \n",
      "Count:  96\n"
     ]
    }
   ],
   "source": [
    "# data setup\n",
    "faces, labels, count = prepare_training_data(\"data/people_faces\")\n",
    "print(\"Total faces: \", len(faces), \"\\nTotal labels: \", len(labels), \"\\nCount: \", count)"
   ]
  },
  {
   "cell_type": "code",
   "execution_count": 3,
   "id": "4c1c49b3-a929-4f70-a1cd-7073d79e7f91",
   "metadata": {},
   "outputs": [],
   "source": [
    "#create our LBPH face recognizer \n",
    "face_recognizer = cv2.face.LBPHFaceRecognizer_create()\n",
    "#train our face recognizer of our training faces\n",
    "# face_recognizer.train(faces, np.array(labels))"
   ]
  },
  {
   "cell_type": "code",
   "execution_count": null,
   "id": "d7ec1ce0-1fd7-4baf-bc6b-31dad0123539",
   "metadata": {},
   "outputs": [],
   "source": []
  }
 ],
 "metadata": {
  "kernelspec": {
   "display_name": "Python 3 (ipykernel)",
   "language": "python",
   "name": "python3"
  },
  "language_info": {
   "codemirror_mode": {
    "name": "ipython",
    "version": 3
   },
   "file_extension": ".py",
   "mimetype": "text/x-python",
   "name": "python",
   "nbconvert_exporter": "python",
   "pygments_lexer": "ipython3",
   "version": "3.10.6"
  }
 },
 "nbformat": 4,
 "nbformat_minor": 5
}
